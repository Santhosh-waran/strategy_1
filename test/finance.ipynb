{
 "cells": [
  {
   "cell_type": "code",
   "execution_count": 38,
   "id": "0eea39d3-6659-42e3-b4e8-540d436f53eb",
   "metadata": {},
   "outputs": [],
   "source": [
    "import pandas as pd\n",
    "import numpy as np\n",
    "import matplotlib.pyplot as plt \n",
    "import yfinance as yf"
   ]
  },
  {
   "cell_type": "code",
   "execution_count": 70,
   "id": "9cb385f4-50df-40a1-8f81-581160eecab6",
   "metadata": {},
   "outputs": [],
   "source": [
    "class Fiance():\n",
    "    def __init__(self,symbol,start,end):\n",
    "        self._symbol = symbol\n",
    "        self.start = start\n",
    "        self.end = end\n",
    "        self.get_data()\n",
    "        self.Return()\n",
    "        print(f\"Fiance symbol:{self._symbol} start:{self.start} end:{self.end}\")\n",
    "        \n",
    "    def get_data(self):\n",
    "        data = yf.download(self._symbol,self.start,self.end).Close.to_frame()\n",
    "        data.rename(columns ={\"Close\" : \"price\"}, inplace=True)\n",
    "        self.data = data\n",
    "        return data \n",
    "        \n",
    "    def Return(self):\n",
    "        self.data[\"return\"] = self.data.price.pct_change(periods=1)\n",
    "        self.data[\"log_return\"] = np.log(self.data.price/self.data.price.shift(periods=1))\n",
    "\n",
    "    def plot_price(self,k = \"plt\"):\n",
    "        data = self.data\n",
    "        if k == \"plt\":\n",
    "            data.price.plot(figsize=(15,8))\n",
    "        elif(k == \"hist\"):\n",
    "            data.log_return.hist(figsize=(15,8))\n",
    "        else:\n",
    "            \n",
    "        \n",
    "        \n",
    "    "
   ]
  },
  {
   "cell_type": "code",
   "execution_count": 71,
   "id": "5fb8f98f-06cb-45a1-9586-77b20b4e1fb0",
   "metadata": {},
   "outputs": [
    {
     "name": "stderr",
     "output_type": "stream",
     "text": [
      "[*********************100%***********************]  1 of 1 completed"
     ]
    },
    {
     "name": "stdout",
     "output_type": "stream",
     "text": [
      "Fiance symbol:AAPL start:2014-10-10 end:2024-10-10\n"
     ]
    },
    {
     "name": "stderr",
     "output_type": "stream",
     "text": [
      "\n"
     ]
    }
   ],
   "source": [
    "fin = Fiance(\"AAPL\",\"2014-10-10\",\"2024-10-10\")"
   ]
  },
  {
   "cell_type": "code",
   "execution_count": 72,
   "id": "8b90f3d7-b3f7-45b3-b931-8e4df0d28162",
   "metadata": {},
   "outputs": [
    {
     "data": {
      "text/html": [
       "<div>\n",
       "<style scoped>\n",
       "    .dataframe tbody tr th:only-of-type {\n",
       "        vertical-align: middle;\n",
       "    }\n",
       "\n",
       "    .dataframe tbody tr th {\n",
       "        vertical-align: top;\n",
       "    }\n",
       "\n",
       "    .dataframe thead th {\n",
       "        text-align: right;\n",
       "    }\n",
       "</style>\n",
       "<table border=\"1\" class=\"dataframe\">\n",
       "  <thead>\n",
       "    <tr style=\"text-align: right;\">\n",
       "      <th></th>\n",
       "      <th>price</th>\n",
       "      <th>return</th>\n",
       "      <th>log_return</th>\n",
       "    </tr>\n",
       "    <tr>\n",
       "      <th>Date</th>\n",
       "      <th></th>\n",
       "      <th></th>\n",
       "      <th></th>\n",
       "    </tr>\n",
       "  </thead>\n",
       "  <tbody>\n",
       "    <tr>\n",
       "      <th>2014-10-10</th>\n",
       "      <td>25.182501</td>\n",
       "      <td>NaN</td>\n",
       "      <td>NaN</td>\n",
       "    </tr>\n",
       "    <tr>\n",
       "      <th>2014-10-13</th>\n",
       "      <td>24.952499</td>\n",
       "      <td>-0.009133</td>\n",
       "      <td>-0.009175</td>\n",
       "    </tr>\n",
       "    <tr>\n",
       "      <th>2014-10-14</th>\n",
       "      <td>24.687500</td>\n",
       "      <td>-0.010620</td>\n",
       "      <td>-0.010677</td>\n",
       "    </tr>\n",
       "    <tr>\n",
       "      <th>2014-10-15</th>\n",
       "      <td>24.385000</td>\n",
       "      <td>-0.012253</td>\n",
       "      <td>-0.012329</td>\n",
       "    </tr>\n",
       "    <tr>\n",
       "      <th>2014-10-16</th>\n",
       "      <td>24.065001</td>\n",
       "      <td>-0.013123</td>\n",
       "      <td>-0.013210</td>\n",
       "    </tr>\n",
       "    <tr>\n",
       "      <th>...</th>\n",
       "      <td>...</td>\n",
       "      <td>...</td>\n",
       "      <td>...</td>\n",
       "    </tr>\n",
       "    <tr>\n",
       "      <th>2024-10-03</th>\n",
       "      <td>225.669998</td>\n",
       "      <td>-0.004895</td>\n",
       "      <td>-0.004907</td>\n",
       "    </tr>\n",
       "    <tr>\n",
       "      <th>2024-10-04</th>\n",
       "      <td>226.800003</td>\n",
       "      <td>0.005007</td>\n",
       "      <td>0.004995</td>\n",
       "    </tr>\n",
       "    <tr>\n",
       "      <th>2024-10-07</th>\n",
       "      <td>221.690002</td>\n",
       "      <td>-0.022531</td>\n",
       "      <td>-0.022789</td>\n",
       "    </tr>\n",
       "    <tr>\n",
       "      <th>2024-10-08</th>\n",
       "      <td>225.770004</td>\n",
       "      <td>0.018404</td>\n",
       "      <td>0.018237</td>\n",
       "    </tr>\n",
       "    <tr>\n",
       "      <th>2024-10-09</th>\n",
       "      <td>229.539993</td>\n",
       "      <td>0.016698</td>\n",
       "      <td>0.016560</td>\n",
       "    </tr>\n",
       "  </tbody>\n",
       "</table>\n",
       "<p>2516 rows × 3 columns</p>\n",
       "</div>"
      ],
      "text/plain": [
       "                 price    return  log_return\n",
       "Date                                        \n",
       "2014-10-10   25.182501       NaN         NaN\n",
       "2014-10-13   24.952499 -0.009133   -0.009175\n",
       "2014-10-14   24.687500 -0.010620   -0.010677\n",
       "2014-10-15   24.385000 -0.012253   -0.012329\n",
       "2014-10-16   24.065001 -0.013123   -0.013210\n",
       "...                ...       ...         ...\n",
       "2024-10-03  225.669998 -0.004895   -0.004907\n",
       "2024-10-04  226.800003  0.005007    0.004995\n",
       "2024-10-07  221.690002 -0.022531   -0.022789\n",
       "2024-10-08  225.770004  0.018404    0.018237\n",
       "2024-10-09  229.539993  0.016698    0.016560\n",
       "\n",
       "[2516 rows x 3 columns]"
      ]
     },
     "execution_count": 72,
     "metadata": {},
     "output_type": "execute_result"
    }
   ],
   "source": [
    "fin.data"
   ]
  },
  {
   "cell_type": "code",
   "execution_count": 76,
   "id": "6aea1219-495b-4545-8c71-ebc05698c876",
   "metadata": {},
   "outputs": [
    {
     "data": {
      "image/png": "[encoded data removed]",
      "text/plain": [
       "<Figure size 640x480 with 1 Axes>"
      ]
     },
     "metadata": {},
     "output_type": "display_data"
    }
   ],
   "source": [
    "fin.plot_price(\"hist\")"
   ]
  },
  {
   "cell_type": "code",
   "execution_count": null,
   "id": "52aa92c6-8fb1-4ef4-95b3-d2bacc790f81",
   "metadata": {},
   "outputs": [],
   "source": []
  },
  {
   "cell_type": "code",
   "execution_count": null,
   "id": "44297c81-8a34-4095-aae5-85714ff2416a",
   "metadata": {},
   "outputs": [],
   "source": []
  }
 ],
 "metadata": {
  "kernelspec": {
   "display_name": "Python 3 (ipykernel)",
   "language": "python",
   "name": "python3"
  },
  "language_info": {
   "codemirror_mode": {
    "name": "ipython",
    "version": 3
   },
   "file_extension": ".py",
   "mimetype": "text/x-python",
   "name": "python",
   "nbconvert_exporter": "python",
   "pygments_lexer": "ipython3",
   "version": "3.12.4"
  }
 },
 "nbformat": 4,
 "nbformat_minor": 5
}
